{
  "nbformat": 4,
  "nbformat_minor": 0,
  "metadata": {
    "colab": {
      "name": "Python_Project(Odd-or-Even).ipynb",
      "provenance": []
    },
    "kernelspec": {
      "name": "python3",
      "display_name": "Python 3"
    },
    "language_info": {
      "name": "python"
    }
  },
  "cells": [
    {
      "cell_type": "code",
      "metadata": {
        "colab": {
          "base_uri": "https://localhost:8080/"
        },
        "id": "d6jtEjVeFhvX",
        "outputId": "2dbed399-d7fe-468d-ecf3-435f41023790"
      },
      "source": [
        "# Ask the user for a number. Depending on whether the number is even or odd, print out an appropriate message to the user. \n",
        "# Hint: how does an even / odd number react differently when divided by 2?\n",
        "# Extras:\n",
        "#    1.\tIf the number is a multiple of 4, print out a different message.\n",
        "#    2.\tAsk the user for two numbers: one number to check (call it num) and one number to divide by (check). \n",
        "# If check divides evenly into num, tell that to the user. If not, print a different appropriate message.\n",
        "\n",
        "print('Please enter an integer number:')\n",
        "numbr = int(input())\n",
        "if numbr%2 == 0:\n",
        "  print(\"This is an even number\")\n",
        "  if numbr%4 == 0:\n",
        "    print(str(numbr),\"is a multiple of 4\")\n",
        "else:\n",
        "  print(\"This is an odd number\")\n",
        "\n",
        "print(\"\\nPlease enter a number\")\n",
        "num = int(input())\n",
        "print(\"Please enter another number\")\n",
        "check = int(input())\n",
        "\n",
        "if num%check == 0:\n",
        "  print(\"\\n\",check,\"divides evenly into\", num)\n",
        "else:\n",
        "  print(check,\"doesn't divides evenly into\", num)"
      ],
      "execution_count": 26,
      "outputs": [
        {
          "output_type": "stream",
          "text": [
            "Please enter an integer number:\n",
            "40\n",
            "This is an even number\n",
            "40 is a multiple of 4\n",
            "\n",
            "Please enter a number\n",
            "25\n",
            "Please enter another number\n",
            "5\n",
            "\n",
            " 5 divides evenly into 25\n"
          ],
          "name": "stdout"
        }
      ]
    }
  ]
}