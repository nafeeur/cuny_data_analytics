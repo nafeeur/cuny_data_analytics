{
  "nbformat": 4,
  "nbformat_minor": 0,
  "metadata": {
    "colab": {
      "name": "Python_Project(Rock_Paper_Scissors).ipynb",
      "provenance": []
    },
    "kernelspec": {
      "name": "python3",
      "display_name": "Python 3"
    },
    "language_info": {
      "name": "python"
    }
  },
  "cells": [
    {
      "cell_type": "code",
      "metadata": {
        "colab": {
          "base_uri": "https://localhost:8080/"
        },
        "id": "TbOvb0Y2PKql",
        "outputId": "495bed1c-81e6-4977-c5b9-73873c771cf7"
      },
      "source": [
        "# Make a two-player Rock-Paper-Scissors game. (Hint: Ask for player plays (using input), \n",
        "# compare them, print out a message of congratulations to the winner,\n",
        "# and ask if the players want to start a new game)\n",
        "# Remember the rules:\n",
        "#   •\tRock beats scissors\n",
        "#   •\tScissors beats paper\n",
        "#   •\tPaper beats rock\n",
        "\n",
        "game = {\"Rock\":10, \"Paper\":2, \"Scissors\":5}\n",
        "ans = \"\"\n",
        "print(\"Welcome to the Rock-Paper-Scissors game!\")\n",
        "while ans != \"No\":\n",
        "\n",
        "  print(\"\\nPlayer 1, please enter your choice:\")\n",
        "  input1 = input()\n",
        "\n",
        "  print(\"Player 2, please enter your choice:\")\n",
        "  input2 = input()\n",
        "\n",
        "  result = game[input1]/game[input2]\n",
        "\n",
        "  if result == 5:\n",
        "    print(\"Congrats Player 2!, You Won!\")\n",
        "  elif result == 0.2:\n",
        "    print(\"Congrats Player 1!, You Won!\")\n",
        "\n",
        "  elif result == 2:\n",
        "    print(\"Congrats Player 1!, You Won!\")\n",
        "  elif result == 0.5:\n",
        "    print(\"Congrats Player 2!, You Won!\")\n",
        "\n",
        "  elif result == 0.4:\n",
        "    print(\"Congrats Player 2!, You Won!\")\n",
        "  elif result == 2.5:\n",
        "    print(\"Congrats Player 1! You Won!\")\n",
        "\n",
        "  print(\"\\nWould you like to play another game?\")\n",
        "  ans = input()\n",
        "\n",
        "if ans == \"No\" or \"no\":\n",
        "  print(\"\\nThank you for playing!\")\n",
        "\n"
      ],
      "execution_count": 31,
      "outputs": [
        {
          "output_type": "stream",
          "text": [
            "Welcome to the Rock-Paper-Scissors game!\n",
            "\n",
            "Player 1, please enter your choice:\n",
            "Rock\n",
            "Player 2, please enter your choice:\n",
            "Paper\n",
            "Congrats Player 2!, You Won!\n",
            "\n",
            "Would you like to play another game?\n",
            "Yes\n",
            "\n",
            "Player 1, please enter your choice:\n",
            "Rock\n",
            "Player 2, please enter your choice:\n",
            "Scissors\n",
            "Congrats Player 1!, You Won!\n",
            "\n",
            "Would you like to play another game?\n",
            "No\n",
            "\n",
            "Thank you for playing!\n"
          ],
          "name": "stdout"
        }
      ]
    }
  ]
}