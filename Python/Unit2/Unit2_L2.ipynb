{
  "nbformat": 4,
  "nbformat_minor": 0,
  "metadata": {
    "colab": {
      "name": "Unit2_L2.ipynb",
      "provenance": []
    },
    "kernelspec": {
      "name": "python3",
      "display_name": "Python 3"
    },
    "language_info": {
      "name": "python"
    }
  },
  "cells": [
    {
      "cell_type": "code",
      "metadata": {
        "colab": {
          "base_uri": "https://localhost:8080/"
        },
        "id": "OgPrc41_u25o",
        "outputId": "070b3382-5ae8-48b3-fc4e-f98e056cd960"
      },
      "source": [
        "# 1. What is Python and why is it useful?\n",
        "\n",
        "# Python is an open-source programing language developed by Guido van Rossum. \n",
        "# It is useful because of its simple syntax and versatile nature. \n",
        "# The various libraries of Python makes it possible to be used in different fields from  ML, Data Science to App development.\n",
        "\n",
        "# 2. Are the following variable names allowed in python?\n",
        "#   a. 1_message (Not Allowed)\n",
        "#   b. Greeting_message (Allowed)\n",
        "#   c. Message_1 (Allowed)\n",
        "#   d. First name (Not Allowed)\n",
        "#   e. Full_name (Allowed)\n",
        "\n",
        "# 3. Create a variable that holds the string “hello there!”\n",
        "\n",
        "greeting = \"hello there!\"\n",
        "\n",
        "# 4. Create a variable for first name, last name and an email extension. \n",
        "# Concatenating all three together to form an email address.  \n",
        "# For example: firstnamelastname@gmail.com\n",
        "\n",
        "fname = \"john\"\n",
        "lname = \"doe\"\n",
        "email = fname+lname+\"@gmail.com\"\n",
        "print(email)\n",
        "\n",
        "# 5. Store someone you know name in a variable called name.  \n",
        "# Print their name in lower and uppercase using a method.\n",
        "\n",
        "name = \"Giacominno\"\n",
        "print(name.lower(),name.upper())\n",
        "\n",
        "# 6. Using a variable, ask your friend if they want to hang out on the 15th of the month.  \n",
        "# For example, “Do you want to hang out on the 15th of this month?”  \n",
        "# You should have to convert the number to a string.\n",
        "\n",
        "month = 15\n",
        "print(\"Do you want to hang out on the\",str(month)+\"th\",\"of this month?\")\n"
      ],
      "execution_count": 15,
      "outputs": [
        {
          "output_type": "stream",
          "text": [
            "johndoe@gmail.com\n",
            "giacominno GIACOMINNO\n",
            "Do you want to hang out on the 15th of this month?\n"
          ],
          "name": "stdout"
        }
      ]
    }
  ]
}