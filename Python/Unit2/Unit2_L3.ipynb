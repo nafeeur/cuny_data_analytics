{
  "nbformat": 4,
  "nbformat_minor": 0,
  "metadata": {
    "colab": {
      "name": "Unit2_L3.ipynb",
      "provenance": []
    },
    "kernelspec": {
      "name": "python3",
      "display_name": "Python 3"
    },
    "language_info": {
      "name": "python"
    }
  },
  "cells": [
    {
      "cell_type": "code",
      "metadata": {
        "colab": {
          "base_uri": "https://localhost:8080/"
        },
        "id": "xDA-g9KyIUvl",
        "outputId": "ba514f66-d5f5-41a8-dd1f-cd9a69398b8b"
      },
      "source": [
        "# 1. Create a list of 5 of your favorite TV shows.\n",
        "\n",
        "tv_shows = [\"True Detective\", \"Fullmetal Alchemist\", \"Dexter\", \"Hannibal\", \"Twilight Zone\"]\n",
        "\n",
        "# 2. Print the list in its original order.\n",
        "\n",
        "print(tv_shows)\n",
        "\n",
        "# 3. Use the sorted() function to print the list in alphabetical order. How is sorted() different from sort()?\n",
        "\n",
        "print(\"Sorted List:\",sorted(tv_shows))\n",
        "\n",
        "# sorted() is different from sort() in that, “sort()” modifies the original list but does not return anything \n",
        "# while “sorted()” is a function that does not modifies the original list but does create a instance of sorted list. \n",
        "\n",
        "# 4. Print out your original list.\n",
        "\n",
        "print(\"Original List:\",tv_shows)\n",
        "\n",
        "# 5. Used sorted() to print your list in reverse alphabetical order.\n",
        "\n",
        "print(\"List in Reveresed Order:\",sorted(tv_shows, reverse=True))\n",
        "\n",
        "# 6. Create a message indicating how many favorite TV shows you have – use the len() function.\n",
        "\n",
        "print(\"I have\",len(tv_shows),\"favorite TV shows.\")\n",
        "\n"
      ],
      "execution_count": 12,
      "outputs": [
        {
          "output_type": "stream",
          "text": [
            "['True Detective', 'Fullmetal Alchemist', 'Dexter', 'Hannibal', 'Twilight Zone']\n",
            "Sorted List: ['Dexter', 'Fullmetal Alchemist', 'Hannibal', 'True Detective', 'Twilight Zone']\n",
            "Original List: ['True Detective', 'Fullmetal Alchemist', 'Dexter', 'Hannibal', 'Twilight Zone']\n",
            "List in Reveresed Order: ['Twilight Zone', 'True Detective', 'Hannibal', 'Fullmetal Alchemist', 'Dexter']\n",
            "I have 5 favorite TV shows.\n"
          ],
          "name": "stdout"
        }
      ]
    }
  ]
}