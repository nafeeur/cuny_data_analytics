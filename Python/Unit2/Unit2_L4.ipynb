{
  "nbformat": 4,
  "nbformat_minor": 0,
  "metadata": {
    "colab": {
      "name": "Unit2_L4.ipynb",
      "provenance": [],
      "collapsed_sections": []
    },
    "kernelspec": {
      "name": "python3",
      "display_name": "Python 3"
    },
    "language_info": {
      "name": "python"
    }
  },
  "cells": [
    {
      "cell_type": "code",
      "metadata": {
        "colab": {
          "base_uri": "https://localhost:8080/"
        },
        "id": "TuzsnkfM2JHp",
        "outputId": "da3b45d2-ee38-4168-d3ac-bfe4916b055a"
      },
      "source": [
        "# 1. Create a list that holds 5 data variables. \n",
        "\n",
        "lst = [\"a\", \"New York\", \"Hello\", \"tree\", \"UNIX\"]\n",
        "\n",
        "# 2. Print out those variables by using a for loop.\n",
        "\n",
        "for i in lst:\n",
        "  print(i)\n",
        "\n",
        "# 3. Modify your for loop to add a message to your for loop.\n",
        "\n",
        "for i in lst:\n",
        "  i = str(i)\n",
        "  print(\"The length of\",i,\"is\",len(i))\n",
        "\n",
        "# 4. Use a for loop to print even numbers from 1-20.\n",
        "\n",
        "for i in range(1,21):\n",
        "  if i%2 == 0:\n",
        "    print(i)\n",
        "\n",
        "# 5. Sort your list in alphabetic order.\n",
        "\n",
        "print(\"Sorted List:\", sorted(lst))\n",
        "print(\"Original List:\", lst )\n",
        "\n",
        "# 6. Print out the first three elements of your list.\n",
        "\n",
        "print(\"First Three Elements of the List:\", lst[:3])\n",
        "\n",
        "\n",
        "# 7. Create a loop to print the last 2 elements of your list.\n",
        "\n",
        "print(\"Last Two Elements of the List:\")\n",
        "for i in lst[-2:]:\n",
        "  print(i)\n",
        "  \n",
        "\n",
        "\n",
        "\n",
        "    \n",
        "  \n"
      ],
      "execution_count": 106,
      "outputs": [
        {
          "output_type": "stream",
          "text": [
            "a\n",
            "New York\n",
            "Hello\n",
            "tree\n",
            "UNIX\n",
            "The length of a is 1\n",
            "The length of New York is 8\n",
            "The length of Hello is 5\n",
            "The length of tree is 4\n",
            "The length of UNIX is 4\n",
            "2\n",
            "4\n",
            "6\n",
            "8\n",
            "10\n",
            "12\n",
            "14\n",
            "16\n",
            "18\n",
            "20\n",
            "Sorted List: ['Hello', 'New York', 'UNIX', 'a', 'tree']\n",
            "Original List: ['a', 'New York', 'Hello', 'tree', 'UNIX']\n",
            "First Three Elements of the List: ['a', 'New York', 'Hello']\n",
            "Last Two Elements of the List:\n",
            "tree\n",
            "UNIX\n"
          ],
          "name": "stdout"
        }
      ]
    }
  ]
}