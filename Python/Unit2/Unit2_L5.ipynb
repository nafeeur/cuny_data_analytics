{
  "nbformat": 4,
  "nbformat_minor": 0,
  "metadata": {
    "colab": {
      "name": "Unit2_L5.ipynb",
      "provenance": []
    },
    "kernelspec": {
      "name": "python3",
      "display_name": "Python 3"
    },
    "language_info": {
      "name": "python"
    }
  },
  "cells": [
    {
      "cell_type": "code",
      "metadata": {
        "colab": {
          "base_uri": "https://localhost:8080/"
        },
        "id": "4oKrIvg2eYzb",
        "outputId": "c1b88806-722d-47a8-e7f4-06db92d9f781"
      },
      "source": [
        "# 1. Make a list of 5 or more usernames, including an admin account. \n",
        "# Imagine you are writing code that will welcome people to your application on login. \n",
        "# Loop through the list and print your greeting.\n",
        "#   a. If the admin account logs in, give them a special greeting. They’re the admin, after all!\n",
        "#   b. Other users can get the generic greeting.\n",
        "\n",
        "usrs = [\"Jimmy\", \"Ali\", \"Nelson\", \"Dave\", \"Bob\", \"Chris\"]\n",
        "admn = \"Nelson\"\n",
        "for i in usrs:\n",
        "  if i == admn:\n",
        "    print(\"Welcome back Boss!\", admn)\n",
        "  else:\n",
        "    print(\"Welcome user:\", i)\n",
        "\n",
        "# 2. Store numbers 1-10 in a list\n",
        "#    a. Loop through the list\n",
        "#    b. Use an if-elif-else chain inside your loop to print the ordinal ending for each number\n",
        "#       – for example – 1st, 2nd, 3rd … etc.\n",
        "\n",
        "num = [1,2,3,4,5,6,7,8,9,10]\n",
        "\n",
        "for i in num:\n",
        "  if i==1:\n",
        "    print(\"1st\")\n",
        "  elif i==3:\n",
        "    print(\"3rd\")\n",
        "  elif i in num[3:]:\n",
        "    print(str(i)+\"th\")\n",
        "  else:\n",
        "    print(\"2nd\")\n"
      ],
      "execution_count": 24,
      "outputs": [
        {
          "output_type": "stream",
          "text": [
            "Welcome user: Jimmy\n",
            "Welcome user: Ali\n",
            "Welcome back Boss! Nelson\n",
            "Welcome user: Dave\n",
            "Welcome user: Bob\n",
            "Welcome user: Chris\n",
            "1st\n",
            "2nd\n",
            "3rd\n",
            "4th\n",
            "5th\n",
            "6th\n",
            "7th\n",
            "8th\n",
            "9th\n",
            "10th\n"
          ],
          "name": "stdout"
        }
      ]
    },
    {
      "cell_type": "code",
      "metadata": {
        "id": "kF2ywiNcjbZk"
      },
      "source": [
        ""
      ],
      "execution_count": null,
      "outputs": []
    }
  ]
}