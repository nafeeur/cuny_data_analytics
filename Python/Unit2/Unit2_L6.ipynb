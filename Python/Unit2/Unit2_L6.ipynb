{
  "nbformat": 4,
  "nbformat_minor": 0,
  "metadata": {
    "colab": {
      "name": "Unit2_L6.ipynb",
      "provenance": []
    },
    "kernelspec": {
      "name": "python3",
      "display_name": "Python 3"
    },
    "language_info": {
      "name": "python"
    }
  },
  "cells": [
    {
      "cell_type": "code",
      "metadata": {
        "id": "DuJlToR5lqOW",
        "colab": {
          "base_uri": "https://localhost:8080/"
        },
        "outputId": "5da16412-f7e5-4da7-fe81-d772ed3d92bd"
      },
      "source": [
        "# 1.\tCreate a simple dictionary that stores 2 variables, for example: first and last name.\n",
        "\n",
        "name = {\"first_name\":\"John\", \"last_name\":\"Doe\"}\n",
        "\n",
        "# 2.\tPrint out those variables stored in your previous dictionary. \n",
        "\n",
        "print(name)\n",
        "\n",
        "# 3. Add a message to those variables on printing: for example: “Hello, firstname lastname!”\n",
        "\n",
        "print(\"Hello\", name[\"first_name\"],name[\"last_name\"]+\"!\")\n",
        "\n",
        "# 4. Create a dictionary that holds 2 key: value pairs:\n",
        "#    a. Loop through your dictionary and print each pair,\n",
        "\n",
        "dic = {\"Weather\":\"Sunny\",\"City\":\"NYC\"}\n",
        "\n",
        "for key,value in dic.items():\n",
        "  print(key + \":\", value)\n",
        "\n",
        "# 5. Create a nested dictionary containing three dictionaries – \n",
        "# these dictionaries could be anything (favorite pets, travel locations, etc.)\n",
        "#    a.\tLoop through the dictionaries and print a message for each.\n",
        "\n",
        "dic2 = {\"Name\":\"John.\",\"Pets\": {\"Mammal\":\"Dog\", \"Places\": {\"City\":\"NYC.\"}}}\n",
        "while True:\n",
        "  print(\"Hi, My name is\",dic2[\"Name\"], \"I have a pet\",dic2[\"Pets\"][\"Mammal\"],\"and I live in\",dic2[\"Pets\"][\"Places\"][\"City\"])\n",
        "  break\n",
        "\n",
        "\n"
      ],
      "execution_count": 48,
      "outputs": [
        {
          "output_type": "stream",
          "text": [
            "{'first_name': 'John', 'last_name': 'Doe'}\n",
            "Hello John Doe!\n",
            "Weather: Sunny\n",
            "City: NYC\n",
            "Hi, My name is John. I have a pet Dog and I live in NYC.\n"
          ],
          "name": "stdout"
        }
      ]
    }
  ]
}