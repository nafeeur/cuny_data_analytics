{
  "nbformat": 4,
  "nbformat_minor": 0,
  "metadata": {
    "colab": {
      "name": "Unit3_Python_Advanced_Pandas_DataWrangling_Assignment.ipynb",
      "provenance": [],
      "collapsed_sections": [],
      "include_colab_link": true
    },
    "kernelspec": {
      "name": "python3",
      "display_name": "Python 3"
    }
  },
  "cells": [
    {
      "cell_type": "markdown",
      "metadata": {
        "id": "view-in-github",
        "colab_type": "text"
      },
      "source": [
        "<a href=\"https://colab.research.google.com/github/nafeeur/cuny_data_analytics/blob/main/Python/Unit3/Advanced_Pandas_DataWrangling_Assignment.ipynb\" target=\"_parent\"><img src=\"https://colab.research.google.com/assets/colab-badge.svg\" alt=\"Open In Colab\"/></a>"
      ]
    },
    {
      "cell_type": "code",
      "metadata": {
        "id": "NB7kwRqMaFIA",
        "colab": {
          "base_uri": "https://localhost:8080/",
          "height": 632
        },
        "outputId": "4b619fc2-ab50-4e44-932e-dacfd966ac3f"
      },
      "source": [
        "import pandas as pd \n",
        "import numpy as np\n",
        "import matplotlib.pyplot as plt\n",
        "%matplotlib inline\n",
        "\n",
        "df = pd.read_csv('https://raw.githubusercontent.com/CunyLaguardiaDataAnalytics/datasets/master/Salaries.csv')\n",
        "\n",
        "type(df)\n",
        "\n",
        "# Making a new Data Frame that only has the columns 'sex' and 'salary'\n",
        "\n",
        "new_df = df[[\"sex\",\"salary\"]]\n",
        "\n",
        "# Finding the Median salary for all males\n",
        "\n",
        "male_salray = new_df.loc[new_df['sex'] != \"Female\"]\n",
        "print(\"Male median\",male_salray.mean().to_string())\n",
        "\n",
        "# Finding the Median salary for all females\n",
        "\n",
        "female_salray = new_df.loc[new_df['sex'] != \"Male\"]\n",
        "print(\"Female median\",female_salray.median().to_string())\n",
        "\n",
        "# Comparing the Mean salary of Males and Females\n",
        "\n",
        "print(\"The difference between the Male and Female average\",(male_salray.mean()-female_salray.mean()))\n",
        "\n",
        "# People who have 20 years of experience\n",
        "\n",
        "exp20 = df[df['yrs.service'] == 20]\n",
        "\n",
        "#exp20.head()\n",
        "\n",
        "# Comparing the salaries of people who have 20+ years of experience vs less than 20 years of experience\n",
        "\n",
        "exp20_plus = df[df['yrs.service'] > 20]\n",
        "exp20_less = df[df['yrs.service'] < 20]\n",
        "\n",
        "exp20_plus_sal = exp20_plus['salary']\n",
        "exp20_less_sal = exp20_less['salary']\n",
        "\n",
        "print(\"The difference between salaries\",exp20_plus_sal.mean()-exp20_less_sal.mean())\n",
        "\n",
        "# People who have salary of greater than or equal to 200,000\n",
        "\n",
        "sal_200k = df[df['salary'] >= 200000]\n",
        "\n",
        "sal_200k.head()\n",
        "\n",
        "# Rename values, subset columns, etc\n",
        "\n",
        "df.rename(columns={'salary':'income'})\n",
        "\n",
        "# Visualization \n",
        "\n",
        "df.plot.bar(x='sex',y='salary')\n",
        "df.plot.box(x='sex',y='salary')\n",
        "\n",
        "\n",
        "\n"
      ],
      "execution_count": 35,
      "outputs": [
        {
          "output_type": "stream",
          "text": [
            "Male median salary    115090.418994\n",
            "Female median salary    103750.0\n",
            "The difference between the Male and Female average salary    14088.008738\n",
            "dtype: float64\n",
            "The difference between salaries 14163.373384353748\n"
          ],
          "name": "stdout"
        },
        {
          "output_type": "execute_result",
          "data": {
            "text/plain": [
              "<matplotlib.axes._subplots.AxesSubplot at 0x7f16d5d11a50>"
            ]
          },
          "metadata": {
            "tags": []
          },
          "execution_count": 35
        },
        {
          "output_type": "display_data",
          "data": {
            "image/png": "[encoded data removed]",
            "text/plain": [
              "<Figure size 432x288 with 1 Axes>"
            ]
          },
          "metadata": {
            "tags": [],
            "needs_background": "light"
          }
        },
        {
          "output_type": "display_data",
          "data": {
            "image/png": "[encoded data removed]",
            "text/plain": [
              "<Figure size 432x288 with 1 Axes>"
            ]
          },
          "metadata": {
            "tags": [],
            "needs_background": "light"
          }
        }
      ]
    },
    {
      "cell_type": "markdown",
      "metadata": {
        "id": "fufsyykZafDa"
      },
      "source": [
        "# Data Wrangling – perform some basic transformations on the data"
      ]
    },
    {
      "cell_type": "markdown",
      "metadata": {
        "id": "KWpSuxybUGWK"
      },
      "source": [
        "\n",
        "\n",
        "```\n",
        "# This is formatted as code\n",
        "```\n",
        " (Total: 157), (Mean Salary: 122,520.66)"
      ]
    },
    {
      "cell_type": "code",
      "metadata": {
        "id": "n5sdVrDN9S7u"
      },
      "source": [
        ""
      ],
      "execution_count": null,
      "outputs": []
    },
    {
      "cell_type": "code",
      "metadata": {
        "id": "33ZLAyp69Ucw"
      },
      "source": [
        ""
      ],
      "execution_count": null,
      "outputs": []
    },
    {
      "cell_type": "code",
      "metadata": {
        "id": "uoTGBfZr9Ufy"
      },
      "source": [
        ""
      ],
      "execution_count": null,
      "outputs": []
    },
    {
      "cell_type": "markdown",
      "metadata": {
        "id": "rnhjMu7qX7ao"
      },
      "source": [
        ""
      ]
    },
    {
      "cell_type": "code",
      "metadata": {
        "id": "VLBmpIXc9gKh"
      },
      "source": [
        ""
      ],
      "execution_count": null,
      "outputs": []
    },
    {
      "cell_type": "code",
      "metadata": {
        "id": "r5u5KyDe9gMn"
      },
      "source": [
        ""
      ],
      "execution_count": null,
      "outputs": []
    },
    {
      "cell_type": "code",
      "metadata": {
        "id": "vcohgqM09gP_"
      },
      "source": [
        ""
      ],
      "execution_count": null,
      "outputs": []
    },
    {
      "cell_type": "markdown",
      "metadata": {
        "id": "54eM4tj4V66j"
      },
      "source": [
        ""
      ]
    },
    {
      "cell_type": "code",
      "metadata": {
        "id": "pGOB4eEY9nwG"
      },
      "source": [
        ""
      ],
      "execution_count": null,
      "outputs": []
    },
    {
      "cell_type": "code",
      "metadata": {
        "id": "K1vHeaSS9nzB"
      },
      "source": [
        ""
      ],
      "execution_count": null,
      "outputs": []
    },
    {
      "cell_type": "markdown",
      "metadata": {
        "id": "8zwXwZF0ZbPG"
      },
      "source": [
        "Your Findings here...\n"
      ]
    },
    {
      "cell_type": "markdown",
      "metadata": {
        "id": "Omuf-X37agBG"
      },
      "source": [
        ""
      ]
    },
    {
      "cell_type": "code",
      "metadata": {
        "id": "6DzowXPt9vM3"
      },
      "source": [
        ""
      ],
      "execution_count": null,
      "outputs": []
    },
    {
      "cell_type": "code",
      "metadata": {
        "id": "k8Dah3NK9vYR"
      },
      "source": [
        ""
      ],
      "execution_count": null,
      "outputs": []
    },
    {
      "cell_type": "markdown",
      "metadata": {
        "id": "aExLKbRRaiAv"
      },
      "source": [
        "# Create some simple visualizations showing some simple statistics"
      ]
    },
    {
      "cell_type": "code",
      "metadata": {
        "id": "JX_P5QHV92Ji"
      },
      "source": [
        ""
      ],
      "execution_count": null,
      "outputs": []
    },
    {
      "cell_type": "code",
      "metadata": {
        "id": "S_Bu49tD92ON"
      },
      "source": [
        ""
      ],
      "execution_count": null,
      "outputs": []
    },
    {
      "cell_type": "code",
      "metadata": {
        "id": "9lNOSSEV92RR"
      },
      "source": [
        ""
      ],
      "execution_count": null,
      "outputs": []
    },
    {
      "cell_type": "markdown",
      "metadata": {
        "id": "vM_4yRvgd6h2"
      },
      "source": [
        "\n",
        "\n",
        "```\n",
        "\n",
        "```\n",
        "\n",
        "Your observations from the visuals: "
      ]
    },
    {
      "cell_type": "markdown",
      "metadata": {
        "id": "mZoOuCUvakSc"
      },
      "source": [
        ""
      ]
    },
    {
      "cell_type": "markdown",
      "metadata": {
        "id": "gBp8qWEDbhKH"
      },
      "source": [
        "Based on the analysis performed above, the conclusions are as follows:\n",
        "\n",
        "Your Findings here...\n",
        "\n",
        "\n",
        "\n",
        "I also discovered that the -\n",
        "\n",
        " Your Findings here...\n",
        "\n",
        "\n",
        "\n"
      ]
    }
  ]
}