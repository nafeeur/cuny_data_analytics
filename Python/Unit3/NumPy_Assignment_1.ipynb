{
  "nbformat": 4,
  "nbformat_minor": 0,
  "metadata": {
    "colab": {
      "name": "Unit3_NumPy_Assignment_1.ipynb",
      "provenance": [],
      "collapsed_sections": [],
      "include_colab_link": true
    },
    "kernelspec": {
      "name": "python3",
      "display_name": "Python 3"
    }
  },
  "cells": [
    {
      "cell_type": "markdown",
      "metadata": {
        "id": "view-in-github",
        "colab_type": "text"
      },
      "source": [
        "<a href=\"https://colab.research.google.com/github/nafeeur/cuny_data_analytics/blob/main/Python/Unit3/Unit3_NumPy_Assignment_1.ipynb\" target=\"_parent\"><img src=\"https://colab.research.google.com/assets/colab-badge.svg\" alt=\"Open In Colab\"/></a>"
      ]
    },
    {
      "cell_type": "code",
      "metadata": {
        "id": "MiB4JCOP5FdJ",
        "outputId": "a43ab11e-00ca-4123-bb18-14cc556c2115",
        "colab": {
          "base_uri": "https://localhost:8080/"
        }
      },
      "source": [
        "# 1. Environment Set up\n",
        "\n",
        "import numpy as np\n",
        "\n",
        "# Dataset from summer Olympic London, year 2012\n",
        "\n",
        "np_olympic_country = np.array(['GBR','China','RUS','US','KOR','JPN','GER'])\n",
        "np_olympic_country_Gold = np.array([29,38,24,46,13,7,11])\n",
        "np_olympic_country_Silver = np.array([17,28,25,28,8,14,11])\n",
        "np_olympic_country_Bronze = np.array([19,22,32,29,7,17,14])\n",
        "\n",
        "\n",
        "## 2.\tFind country with maximum gold\n",
        "\n",
        "\n",
        "max_gold = np.where(np_olympic_country_Gold == np.max(np_olympic_country_Gold))\n",
        "\n",
        "print(np_olympic_country[max_gold])\n",
        "\n",
        "\n",
        "# 3.\tFind countries with more than 20 gold medals\n",
        "\n",
        "more_than_20 = np.where(np_olympic_country_Gold > 20)\n",
        "\n",
        "print(np_olympic_country[more_than_20])\n",
        "\n"
      ],
      "execution_count": 28,
      "outputs": [
        {
          "output_type": "stream",
          "text": [
            "['US']\n",
            "['GBR' 'China' 'RUS' 'US']\n"
          ],
          "name": "stdout"
        }
      ]
    }
  ]
}
