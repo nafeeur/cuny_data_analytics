{
  "nbformat": 4,
  "nbformat_minor": 0,
  "metadata": {
    "colab": {
      "name": "Unti2_L3.ipynb",
      "provenance": [],
      "authorship_tag": "ABX9TyOxlm2qfi1DNj2+sF3rOdwg",
      "include_colab_link": true
    },
    "kernelspec": {
      "name": "python3",
      "display_name": "Python 3"
    },
    "language_info": {
      "name": "python"
    }
  },
  "cells": [
    {
      "cell_type": "markdown",
      "metadata": {
        "id": "view-in-github",
        "colab_type": "text"
      },
      "source": [
        "<a href=\"https://colab.research.google.com/github/nafeeur/data_analytics_2/blob/main/Unti2_L3.ipynb\" target=\"_parent\"><img src=\"https://colab.research.google.com/assets/colab-badge.svg\" alt=\"Open In Colab\"/></a>"
      ]
    },
    {
      "cell_type": "markdown",
      "metadata": {
        "id": "iyjyDhj7IHBt"
      },
      "source": [
        "1. Create a list of 5 of your favorite TV shows"
      ]
    },
    {
      "cell_type": "code",
      "metadata": {
        "id": "xDA-g9KyIUvl"
      },
      "source": [
        "tv_shows = [\"Breaking Bad\", \"Full Metal Alchemist\", \"Dexter\", \"Hannibal\", \"Twilight Zone\"]"
      ],
      "execution_count": null,
      "outputs": []
    },
    {
      "cell_type": "markdown",
      "metadata": {
        "id": "DERdh8FkIpOQ"
      },
      "source": [
        "2. Print the list in its originial order"
      ]
    },
    {
      "cell_type": "code",
      "metadata": {
        "colab": {
          "base_uri": "https://localhost:8080/",
          "height": 171
        },
        "id": "cIsylvrjIt8X",
        "outputId": "03e08a62-a56b-4b68-f707-729c8fc7d88c"
      },
      "source": [
        "print(tv_shows)"
      ],
      "execution_count": 1,
      "outputs": [
        {
          "output_type": "error",
          "ename": "NameError",
          "evalue": "ignored",
          "traceback": [
            "\u001b[0;31m---------------------------------------------------------------------------\u001b[0m",
            "\u001b[0;31mNameError\u001b[0m                                 Traceback (most recent call last)",
            "\u001b[0;32m<ipython-input-1-c370662bb467>\u001b[0m in \u001b[0;36m<module>\u001b[0;34m()\u001b[0m\n\u001b[0;32m----> 1\u001b[0;31m \u001b[0mprint\u001b[0m\u001b[0;34m(\u001b[0m\u001b[0mtv_shows\u001b[0m\u001b[0;34m)\u001b[0m\u001b[0;34m\u001b[0m\u001b[0;34m\u001b[0m\u001b[0m\n\u001b[0m",
            "\u001b[0;31mNameError\u001b[0m: name 'tv_shows' is not defined"
          ]
        }
      ]
    }
  ]
}